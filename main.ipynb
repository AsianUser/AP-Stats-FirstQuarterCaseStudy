{
 "cells": [
  {
   "cell_type": "code",
   "execution_count": 5,
   "metadata": {},
   "outputs": [
    {
     "name": "stdout",
     "output_type": "stream",
     "text": [
      "How would you describe your own political affiliation?\n",
      "Approximately how many of the 50 United States have you been in?\n",
      "0              center\n",
      "1              center\n",
      "2              center\n",
      "3      left of center\n",
      "4      left of center\n",
      "           ...       \n",
      "76     left of center\n",
      "77           far left\n",
      "78    right of center\n",
      "79     left of center\n",
      "80             center\n",
      "Name: How would you describe the political affiliation of your parents?, Length: 81, dtype: object\n",
      "0      4\n",
      "1      5\n",
      "2      8\n",
      "3     16\n",
      "4     20\n",
      "      ..\n",
      "76    20\n",
      "77     9\n",
      "78     6\n",
      "79    12\n",
      "80    10\n",
      "Name: Approximately how many of the 50 United States have you been in?, Length: 81, dtype: int64\n"
     ]
    }
   ],
   "source": [
    "import pandas as pd\n",
    "import numpy as np\n",
    "import matplotlib.pyplot as plt\n",
    "from scipy import stats\n",
    "\n",
    "# reading all data\n",
    "data = pd.read_csv(\"AP Statistics Day 1 Survey 2023 - 2024.csv\")\n",
    "\n",
    "# choosing data sets\n",
    "print(data.columns[22])  # parent political affiliation\n",
    "print(data.columns[32])  # us states been in\n",
    "\n",
    "parentPolitics = data[\n",
    "    \"How would you describe the political affiliation of your parents?\"\n",
    "]\n",
    "usStates = data[\"Approximately how many of the 50 United States have you been in?\"]\n",
    "\n",
    "print(parentPolitics)\n",
    "print(usStates)\n"
   ]
  },
  {
   "cell_type": "code",
   "execution_count": 15,
   "metadata": {},
   "outputs": [
    {
     "name": "stdout",
     "output_type": "stream",
     "text": [
      "far left:\n",
      "[15. 12. 20.  9. 19. 24. 26.  9.]\n"
     ]
    }
   ],
   "source": [
    "far_left = np.array([])\n",
    "for i in range(80):\n",
    "    if (parentPolitics[i] == \"far left\"):\n",
    "        far_left = np.append(far_left, int(usStates[i]))\n",
    "#far_left = far_left.astype('int32')\n",
    "\n",
    "print(\"far left:\")\n",
    "print(far_left)\n"
   ]
  },
  {
   "cell_type": "code",
   "execution_count": 24,
   "metadata": {},
   "outputs": [
    {
     "name": "stdout",
     "output_type": "stream",
     "text": [
      "farLeft\n",
      "[15 12 20  9 19 24 26  9]\n",
      "left\n",
      "[16 20  5 12 30 15 16 15 10 24 30 10  7 14 17 10 32 17 15 10 10 15  7  5\n",
      " 30 18  5 13 20 12]\n",
      "center\n",
      "[ 4  5  8 20  6 20  8 15  6 12  7 10 10 15 10 20 13 10 20  8 14 10  9 11\n",
      " 15 12  9]\n",
      "right\n",
      "[15 17  5 12  6 12 15 10  7  8 20  6  6]\n",
      "farRight\n",
      "[14 18]\n"
     ]
    }
   ],
   "source": [
    "# sorting into groups\n",
    "# farLeft, left, center, right, farRight\n",
    "\n",
    "farLeft = np.array([])\n",
    "left = np.array([])\n",
    "center = np.array([])\n",
    "right = np.array([])\n",
    "farRight = np.array([])\n",
    "\n",
    "\n",
    "farLeft = farLeft.astype('int32')\n",
    "left = farLeft.astype('int32')\n",
    "center = farLeft.astype('int32')\n",
    "right = farLeft.astype('int32')\n",
    "farRight = farLeft.astype('int32')\n",
    "\n",
    "for x in range(80):\n",
    "    if (parentPolitics[x] == \"far left\"):\n",
    "        farLeft = np.append(farLeft, int(usStates[x]))\n",
    "        \n",
    "    elif (parentPolitics[x] == \"left of center\"):\n",
    "        left = np.append(left, int(usStates[x]))\n",
    "        \n",
    "    elif (parentPolitics[x] == \"center\"):\n",
    "        center = np.append(center, int(usStates[x]))\n",
    "\n",
    "    elif (parentPolitics[x] == \"right of center\"):\n",
    "        right = np.append(right, int(usStates[x]))\n",
    "    \n",
    "    elif (parentPolitics[x] == \"far right\"):\n",
    "        farRight = np.append(farRight, int(usStates[x]))\n",
    "\n",
    "\n",
    "# print out\n",
    "print(\"farLeft\")\n",
    "print(farLeft)\n",
    "print(\"left\")\n",
    "print(left)\n",
    "print(\"center\")\n",
    "print(center)\n",
    "print(\"right\")\n",
    "print(right)\n",
    "print(\"farRight\")\n",
    "print(farRight)\n"
   ]
  },
  {
   "cell_type": "code",
   "execution_count": 31,
   "metadata": {},
   "outputs": [
    {
     "data": {
      "text/plain": [
       "(array([0., 0., 2., 2., 1., 1., 2., 0., 0., 0.]),\n",
       " array([ 0.,  4.,  8., 12., 16., 20., 24., 28., 32., 36., 40.]),\n",
       " <BarContainer object of 10 artists>)"
      ]
     },
     "execution_count": 31,
     "metadata": {},
     "output_type": "execute_result"
    },
    {
     "data": {
      "image/png": "[encoded data removed]",
      "text/plain": [
       "<Figure size 640x480 with 1 Axes>"
      ]
     },
     "metadata": {},
     "output_type": "display_data"
    }
   ],
   "source": [
    "# make histograms\n",
    "plt.hist(farLeft, bins = [0,4,8,12,16,20,24,28,32,36,40])"
   ]
  }
 ],
 "metadata": {
  "kernelspec": {
   "display_name": "base",
   "language": "python",
   "name": "python3"
  },
  "language_info": {
   "codemirror_mode": {
    "name": "ipython",
    "version": 3
   },
   "file_extension": ".py",
   "mimetype": "text/x-python",
   "name": "python",
   "nbconvert_exporter": "python",
   "pygments_lexer": "ipython3",
   "version": "3.11.5"
  }
 },
 "nbformat": 4,
 "nbformat_minor": 2
}
